{
  "nbformat": 4,
  "nbformat_minor": 0,
  "metadata": {
    "colab": {
      "provenance": [],
      "authorship_tag": "ABX9TyPxijvItv3ahJNGc+WppENE",
      "include_colab_link": true
    },
    "kernelspec": {
      "name": "python3",
      "display_name": "Python 3"
    },
    "language_info": {
      "name": "python"
    }
  },
  "cells": [
    {
      "cell_type": "markdown",
      "metadata": {
        "id": "view-in-github",
        "colab_type": "text"
      },
      "source": [
        "<a href=\"https://colab.research.google.com/github/Kumikor/My-works/blob/main/Balakin_K_Workbook1.ipynb\" target=\"_parent\"><img src=\"https://colab.research.google.com/assets/colab-badge.svg\" alt=\"Open In Colab\"/></a>"
      ]
    },
    {
      "cell_type": "markdown",
      "source": [
        "\n",
        "\n",
        "Выведите на экраны переменную и их типы\n",
        "x = 5 >=2;\n",
        "A = {1,3,7,8};\n",
        "B = {2,4,5,10, 'apple'};\n",
        "C = A & B;\n",
        "df = ' Антонова Антонина', 34, 'ж';\n",
        "z = 'type';\n",
        "D = [1, 'title',2, 'content'];\n",
        "\n"
      ],
      "metadata": {
        "id": "226Guit690bF"
      }
    },
    {
      "cell_type": "code",
      "execution_count": 1,
      "metadata": {
        "colab": {
          "base_uri": "https://localhost:8080/"
        },
        "id": "pYaksoKy5oLe",
        "outputId": "ccaf9dac-a413-4eed-c9da-932479e3a521"
      },
      "outputs": [
        {
          "output_type": "stream",
          "name": "stdout",
          "text": [
            "True | <class 'bool'> \n",
            " {8, 1, 3, 7} | <class 'set'> \n",
            " {2, 'apple', 4, 5, 10} | <class 'set'> \n",
            " set() | <class 'set'> \n",
            " (' Антонова Антонина', 34, 'ж') | <class 'tuple'> \n",
            " type | <class 'str'> \n",
            " [1, 'title', 2, 'content'] | <class 'list'> \n",
            "\n"
          ]
        }
      ],
      "source": [
        "x = 5 >=2\n",
        "A = {1,3,7,8}\n",
        "B = {2,4,5,10, 'apple'}\n",
        "C = A & B\n",
        "df = ' Антонова Антонина', 34, 'ж'\n",
        "z = 'type'\n",
        "D = [1, 'title',2, 'content']\n",
        "print (x,'|', type(x),'\\n', A,'|', type(A),'\\n',B,'|',type(B),'\\n',C,'|',type(C),'\\n', df,'|',type(df),'\\n', z,'|',type(z),'\\n',D,'|',type(D),'\\n')\n"
      ]
    },
    {
      "cell_type": "markdown",
      "source": [
        "Напишите код. Задается х, напечатать какому из интервалов\n",
        "принадлежит: (-infinity, -5), [-5, 5] или от (5, +infinity)"
      ],
      "metadata": {
        "id": "amLOiErO-JgU"
      }
    },
    {
      "cell_type": "code",
      "source": [
        "import math # библиотека, которая подключает некоторые математические действия и диапозон значений\n",
        "x = float (input()) # вводим значение переменной самостоятельно\n",
        "if (-math.inf<x<-5): # условие, при котором x принадлежит диапазону (-бесконечности,-5)\n",
        "    print(\"x принадлежит\\n (-infinity,-5)\\n\")\n",
        "elif(-5<=x<=5): # условие, при котором x принадлежит диапазону [-5,5]\n",
        "   print(\"x принадлежит\\n [-5,5]\")\n",
        "else: # условие, при котором x принадлежит диапазон (5,+ бесконечности)\n",
        "  print(\"x принадлежит\\n (5,+infinity)\")"
      ],
      "metadata": {
        "colab": {
          "base_uri": "https://localhost:8080/"
        },
        "id": "i17ymP3x-JQo",
        "outputId": "c26e4ec1-3521-4e07-a6a7-fcd48b9f5eee"
      },
      "execution_count": 15,
      "outputs": [
        {
          "output_type": "stream",
          "name": "stdout",
          "text": [
            "1001\n",
            "x принадлежит\n",
            " (5,+infinity)\n"
          ]
        }
      ]
    },
    {
      "cell_type": "markdown",
      "source": [
        "Вывести все числа от 10 до 1 с шагом 3 при помощи while"
      ],
      "metadata": {
        "id": "MnLpSUB19zJK"
      }
    },
    {
      "cell_type": "code",
      "source": [
        "x = 10 # число от которого пойдёт отчсёт\n",
        "while x>=1: # цикл от условия которого выводится значение\n",
        "  print(x)\n",
        "  x-=3 # вычитаем предыдущее значение"
      ],
      "metadata": {
        "colab": {
          "base_uri": "https://localhost:8080/"
        },
        "id": "FDpsz_3B-q3H",
        "outputId": "725b540c-a25b-40a0-bfc0-126dfac60fe0"
      },
      "execution_count": 17,
      "outputs": [
        {
          "output_type": "stream",
          "name": "stdout",
          "text": [
            "10\n",
            "7\n",
            "4\n",
            "1\n"
          ]
        }
      ]
    },
    {
      "cell_type": "markdown",
      "source": [
        "При решении задач машинного обучения часто в качестве объектов\n",
        "исследования выступает человек. Создайте список значимых\n",
        "характеристик (признаков), идентифицирующих человека. Выведите\n",
        "список на экран."
      ],
      "metadata": {
        "id": "uPLGTgdpFiJx"
      }
    },
    {
      "cell_type": "code",
      "source": [
        "human_characteristics= ['умение пользоваться мозгом','умение разговаривать','всегда состоит в обществе'] # массив из характеристик человека\n",
        "for human_characteristic in human_characteristics: # цикл который считывает характеристики\n",
        "  print(human_characteristic)"
      ],
      "metadata": {
        "colab": {
          "base_uri": "https://localhost:8080/"
        },
        "id": "mI0JcIgoFlsk",
        "outputId": "9ee834c4-68c5-4a92-8be7-ce7be6179625"
      },
      "execution_count": 19,
      "outputs": [
        {
          "output_type": "stream",
          "name": "stdout",
          "text": [
            "умение пользоваться мозгом\n",
            "умение разговаривать\n",
            "всегда состоит в обществе\n"
          ]
        }
      ]
    },
    {
      "cell_type": "markdown",
      "source": [
        "Создать список чисел от 2 до 15 с шагом 1."
      ],
      "metadata": {
        "id": "ZyKqritKGu_f"
      }
    },
    {
      "cell_type": "code",
      "source": [
        "for i in range(2,16,1): #создаём цикл который прибавляет 1 от числа 2 до числа 15\n",
        "  print(i)"
      ],
      "metadata": {
        "colab": {
          "base_uri": "https://localhost:8080/"
        },
        "id": "u9u75Jg8Gv9z",
        "outputId": "c41714f4-3422-4156-8fda-5eedcff374e6"
      },
      "execution_count": 22,
      "outputs": [
        {
          "output_type": "stream",
          "name": "stdout",
          "text": [
            "2\n",
            "3\n",
            "4\n",
            "5\n",
            "6\n",
            "7\n",
            "8\n",
            "9\n",
            "10\n",
            "11\n",
            "12\n",
            "13\n",
            "14\n",
            "15\n"
          ]
        }
      ]
    },
    {
      "cell_type": "markdown",
      "source": [],
      "metadata": {
        "id": "zAp0XiVkHEOk"
      }
    }
  ]
}